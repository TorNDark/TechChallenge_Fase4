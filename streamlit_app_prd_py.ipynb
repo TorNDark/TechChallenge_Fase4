{
  "nbformat": 4,
  "nbformat_minor": 0,
  "metadata": {
    "colab": {
      "provenance": [],
      "authorship_tag": "ABX9TyMyE8BO7odqIMgHW9OQAiE4",
      "include_colab_link": true
    },
    "kernelspec": {
      "name": "python3",
      "display_name": "Python 3"
    },
    "language_info": {
      "name": "python"
    }
  },
  "cells": [
    {
      "cell_type": "markdown",
      "metadata": {
        "id": "view-in-github",
        "colab_type": "text"
      },
      "source": [
        "<a href=\"https://colab.research.google.com/github/TorNDark/TechChallenge_Fase4/blob/main/streamlit_app_prd_py.ipynb\" target=\"_parent\"><img src=\"https://colab.research.google.com/assets/colab-badge.svg\" alt=\"Open In Colab\"/></a>"
      ]
    },
    {
      "cell_type": "code",
      "source": [
        "! pip install streamlit"
      ],
      "metadata": {
        "colab": {
          "base_uri": "https://localhost:8080/"
        },
        "id": "DbCdom7Vh9HJ",
        "outputId": "e7385cf8-e8cc-4e52-da9a-1ad39e898945"
      },
      "execution_count": 2,
      "outputs": [
        {
          "output_type": "stream",
          "name": "stdout",
          "text": [
            "Collecting streamlit\n",
            "  Downloading streamlit-1.42.2-py2.py3-none-any.whl.metadata (8.9 kB)\n",
            "Requirement already satisfied: altair<6,>=4.0 in /usr/local/lib/python3.11/dist-packages (from streamlit) (5.5.0)\n",
            "Requirement already satisfied: blinker<2,>=1.0.0 in /usr/local/lib/python3.11/dist-packages (from streamlit) (1.9.0)\n",
            "Requirement already satisfied: cachetools<6,>=4.0 in /usr/local/lib/python3.11/dist-packages (from streamlit) (5.5.1)\n",
            "Requirement already satisfied: click<9,>=7.0 in /usr/local/lib/python3.11/dist-packages (from streamlit) (8.1.8)\n",
            "Requirement already satisfied: numpy<3,>=1.23 in /usr/local/lib/python3.11/dist-packages (from streamlit) (1.26.4)\n",
            "Requirement already satisfied: packaging<25,>=20 in /usr/local/lib/python3.11/dist-packages (from streamlit) (24.2)\n",
            "Requirement already satisfied: pandas<3,>=1.4.0 in /usr/local/lib/python3.11/dist-packages (from streamlit) (2.2.2)\n",
            "Requirement already satisfied: pillow<12,>=7.1.0 in /usr/local/lib/python3.11/dist-packages (from streamlit) (11.1.0)\n",
            "Requirement already satisfied: protobuf<6,>=3.20 in /usr/local/lib/python3.11/dist-packages (from streamlit) (4.25.6)\n",
            "Requirement already satisfied: pyarrow>=7.0 in /usr/local/lib/python3.11/dist-packages (from streamlit) (17.0.0)\n",
            "Requirement already satisfied: requests<3,>=2.27 in /usr/local/lib/python3.11/dist-packages (from streamlit) (2.32.3)\n",
            "Requirement already satisfied: rich<14,>=10.14.0 in /usr/local/lib/python3.11/dist-packages (from streamlit) (13.9.4)\n",
            "Requirement already satisfied: tenacity<10,>=8.1.0 in /usr/local/lib/python3.11/dist-packages (from streamlit) (9.0.0)\n",
            "Requirement already satisfied: toml<2,>=0.10.1 in /usr/local/lib/python3.11/dist-packages (from streamlit) (0.10.2)\n",
            "Requirement already satisfied: typing-extensions<5,>=4.4.0 in /usr/local/lib/python3.11/dist-packages (from streamlit) (4.12.2)\n",
            "Collecting watchdog<7,>=2.1.5 (from streamlit)\n",
            "  Downloading watchdog-6.0.0-py3-none-manylinux2014_x86_64.whl.metadata (44 kB)\n",
            "\u001b[2K     \u001b[90m━━━━━━━━━━━━━━━━━━━━━━━━━━━━━━━━━━━━━━━━\u001b[0m \u001b[32m44.3/44.3 kB\u001b[0m \u001b[31m1.7 MB/s\u001b[0m eta \u001b[36m0:00:00\u001b[0m\n",
            "\u001b[?25hRequirement already satisfied: gitpython!=3.1.19,<4,>=3.0.7 in /usr/local/lib/python3.11/dist-packages (from streamlit) (3.1.44)\n",
            "Collecting pydeck<1,>=0.8.0b4 (from streamlit)\n",
            "  Downloading pydeck-0.9.1-py2.py3-none-any.whl.metadata (4.1 kB)\n",
            "Requirement already satisfied: tornado<7,>=6.0.3 in /usr/local/lib/python3.11/dist-packages (from streamlit) (6.4.2)\n",
            "Requirement already satisfied: jinja2 in /usr/local/lib/python3.11/dist-packages (from altair<6,>=4.0->streamlit) (3.1.5)\n",
            "Requirement already satisfied: jsonschema>=3.0 in /usr/local/lib/python3.11/dist-packages (from altair<6,>=4.0->streamlit) (4.23.0)\n",
            "Requirement already satisfied: narwhals>=1.14.2 in /usr/local/lib/python3.11/dist-packages (from altair<6,>=4.0->streamlit) (1.27.1)\n",
            "Requirement already satisfied: gitdb<5,>=4.0.1 in /usr/local/lib/python3.11/dist-packages (from gitpython!=3.1.19,<4,>=3.0.7->streamlit) (4.0.12)\n",
            "Requirement already satisfied: python-dateutil>=2.8.2 in /usr/local/lib/python3.11/dist-packages (from pandas<3,>=1.4.0->streamlit) (2.8.2)\n",
            "Requirement already satisfied: pytz>=2020.1 in /usr/local/lib/python3.11/dist-packages (from pandas<3,>=1.4.0->streamlit) (2025.1)\n",
            "Requirement already satisfied: tzdata>=2022.7 in /usr/local/lib/python3.11/dist-packages (from pandas<3,>=1.4.0->streamlit) (2025.1)\n",
            "Requirement already satisfied: charset-normalizer<4,>=2 in /usr/local/lib/python3.11/dist-packages (from requests<3,>=2.27->streamlit) (3.4.1)\n",
            "Requirement already satisfied: idna<4,>=2.5 in /usr/local/lib/python3.11/dist-packages (from requests<3,>=2.27->streamlit) (3.10)\n",
            "Requirement already satisfied: urllib3<3,>=1.21.1 in /usr/local/lib/python3.11/dist-packages (from requests<3,>=2.27->streamlit) (2.3.0)\n",
            "Requirement already satisfied: certifi>=2017.4.17 in /usr/local/lib/python3.11/dist-packages (from requests<3,>=2.27->streamlit) (2025.1.31)\n",
            "Requirement already satisfied: markdown-it-py>=2.2.0 in /usr/local/lib/python3.11/dist-packages (from rich<14,>=10.14.0->streamlit) (3.0.0)\n",
            "Requirement already satisfied: pygments<3.0.0,>=2.13.0 in /usr/local/lib/python3.11/dist-packages (from rich<14,>=10.14.0->streamlit) (2.18.0)\n",
            "Requirement already satisfied: smmap<6,>=3.0.1 in /usr/local/lib/python3.11/dist-packages (from gitdb<5,>=4.0.1->gitpython!=3.1.19,<4,>=3.0.7->streamlit) (5.0.2)\n",
            "Requirement already satisfied: MarkupSafe>=2.0 in /usr/local/lib/python3.11/dist-packages (from jinja2->altair<6,>=4.0->streamlit) (3.0.2)\n",
            "Requirement already satisfied: attrs>=22.2.0 in /usr/local/lib/python3.11/dist-packages (from jsonschema>=3.0->altair<6,>=4.0->streamlit) (25.1.0)\n",
            "Requirement already satisfied: jsonschema-specifications>=2023.03.6 in /usr/local/lib/python3.11/dist-packages (from jsonschema>=3.0->altair<6,>=4.0->streamlit) (2024.10.1)\n",
            "Requirement already satisfied: referencing>=0.28.4 in /usr/local/lib/python3.11/dist-packages (from jsonschema>=3.0->altair<6,>=4.0->streamlit) (0.36.2)\n",
            "Requirement already satisfied: rpds-py>=0.7.1 in /usr/local/lib/python3.11/dist-packages (from jsonschema>=3.0->altair<6,>=4.0->streamlit) (0.22.3)\n",
            "Requirement already satisfied: mdurl~=0.1 in /usr/local/lib/python3.11/dist-packages (from markdown-it-py>=2.2.0->rich<14,>=10.14.0->streamlit) (0.1.2)\n",
            "Requirement already satisfied: six>=1.5 in /usr/local/lib/python3.11/dist-packages (from python-dateutil>=2.8.2->pandas<3,>=1.4.0->streamlit) (1.17.0)\n",
            "Downloading streamlit-1.42.2-py2.py3-none-any.whl (9.6 MB)\n",
            "\u001b[2K   \u001b[90m━━━━━━━━━━━━━━━━━━━━━━━━━━━━━━━━━━━━━━━━\u001b[0m \u001b[32m9.6/9.6 MB\u001b[0m \u001b[31m43.8 MB/s\u001b[0m eta \u001b[36m0:00:00\u001b[0m\n",
            "\u001b[?25hDownloading pydeck-0.9.1-py2.py3-none-any.whl (6.9 MB)\n",
            "\u001b[2K   \u001b[90m━━━━━━━━━━━━━━━━━━━━━━━━━━━━━━━━━━━━━━━━\u001b[0m \u001b[32m6.9/6.9 MB\u001b[0m \u001b[31m40.8 MB/s\u001b[0m eta \u001b[36m0:00:00\u001b[0m\n",
            "\u001b[?25hDownloading watchdog-6.0.0-py3-none-manylinux2014_x86_64.whl (79 kB)\n",
            "\u001b[2K   \u001b[90m━━━━━━━━━━━━━━━━━━━━━━━━━━━━━━━━━━━━━━━━\u001b[0m \u001b[32m79.1/79.1 kB\u001b[0m \u001b[31m4.0 MB/s\u001b[0m eta \u001b[36m0:00:00\u001b[0m\n",
            "\u001b[?25hInstalling collected packages: watchdog, pydeck, streamlit\n",
            "Successfully installed pydeck-0.9.1 streamlit-1.42.2 watchdog-6.0.0\n"
          ]
        }
      ]
    },
    {
      "cell_type": "code",
      "execution_count": 3,
      "metadata": {
        "colab": {
          "base_uri": "https://localhost:8080/"
        },
        "id": "nWmJIvNVhq8n",
        "outputId": "9ab83ff5-24dc-401a-e572-55cc64a4a7a2"
      },
      "outputs": [
        {
          "output_type": "stream",
          "name": "stderr",
          "text": [
            "2025-02-21 22:02:10.675 WARNING streamlit.runtime.scriptrunner_utils.script_run_context: Thread 'MainThread': missing ScriptRunContext! This warning can be ignored when running in bare mode.\n",
            "2025-02-21 22:02:11.140 \n",
            "  \u001b[33m\u001b[1mWarning:\u001b[0m to view this Streamlit app on a browser, run it with the following\n",
            "  command:\n",
            "\n",
            "    streamlit run /usr/local/lib/python3.11/dist-packages/colab_kernel_launcher.py [ARGUMENTS]\n",
            "2025-02-21 22:02:11.146 Thread 'MainThread': missing ScriptRunContext! This warning can be ignored when running in bare mode.\n",
            "2025-02-21 22:02:11.153 Thread 'MainThread': missing ScriptRunContext! This warning can be ignored when running in bare mode.\n",
            "2025-02-21 22:02:11.155 Thread 'MainThread': missing ScriptRunContext! This warning can be ignored when running in bare mode.\n",
            "2025-02-21 22:02:11.164 Thread 'MainThread': missing ScriptRunContext! This warning can be ignored when running in bare mode.\n",
            "2025-02-21 22:02:11.165 Thread 'MainThread': missing ScriptRunContext! This warning can be ignored when running in bare mode.\n",
            "2025-02-21 22:02:11.166 Session state does not function when running a script without `streamlit run`\n",
            "2025-02-21 22:02:11.167 Thread 'MainThread': missing ScriptRunContext! This warning can be ignored when running in bare mode.\n",
            "2025-02-21 22:02:11.177 Thread 'MainThread': missing ScriptRunContext! This warning can be ignored when running in bare mode.\n",
            "2025-02-21 22:02:11.722 Thread 'MainThread': missing ScriptRunContext! This warning can be ignored when running in bare mode.\n",
            "2025-02-21 22:02:12.640 Thread 'MainThread': missing ScriptRunContext! This warning can be ignored when running in bare mode.\n",
            "2025-02-21 22:02:12.649 Thread 'MainThread': missing ScriptRunContext! This warning can be ignored when running in bare mode.\n",
            "2025-02-21 22:02:12.654 Thread 'MainThread': missing ScriptRunContext! This warning can be ignored when running in bare mode.\n",
            "2025-02-21 22:02:12.658 Thread 'MainThread': missing ScriptRunContext! This warning can be ignored when running in bare mode.\n",
            "2025-02-21 22:02:12.661 Thread 'MainThread': missing ScriptRunContext! This warning can be ignored when running in bare mode.\n",
            "2025-02-21 22:02:12.665 Thread 'MainThread': missing ScriptRunContext! This warning can be ignored when running in bare mode.\n",
            "2025-02-21 22:02:12.672 Thread 'MainThread': missing ScriptRunContext! This warning can be ignored when running in bare mode.\n",
            "2025-02-21 22:02:12.673 Thread 'MainThread': missing ScriptRunContext! This warning can be ignored when running in bare mode.\n",
            "2025-02-21 22:02:12.677 Thread 'MainThread': missing ScriptRunContext! This warning can be ignored when running in bare mode.\n",
            "2025-02-21 22:02:12.678 Thread 'MainThread': missing ScriptRunContext! This warning can be ignored when running in bare mode.\n",
            "2025-02-21 22:02:12.682 Thread 'MainThread': missing ScriptRunContext! This warning can be ignored when running in bare mode.\n",
            "2025-02-21 22:02:12.683 Thread 'MainThread': missing ScriptRunContext! This warning can be ignored when running in bare mode.\n",
            "2025-02-21 22:02:12.686 Thread 'MainThread': missing ScriptRunContext! This warning can be ignored when running in bare mode.\n",
            "2025-02-21 22:02:12.687 Thread 'MainThread': missing ScriptRunContext! This warning can be ignored when running in bare mode.\n",
            "2025-02-21 22:02:12.690 Thread 'MainThread': missing ScriptRunContext! This warning can be ignored when running in bare mode.\n",
            "2025-02-21 22:02:12.691 Thread 'MainThread': missing ScriptRunContext! This warning can be ignored when running in bare mode.\n",
            "2025-02-21 22:02:12.694 Thread 'MainThread': missing ScriptRunContext! This warning can be ignored when running in bare mode.\n",
            "2025-02-21 22:02:12.695 Thread 'MainThread': missing ScriptRunContext! This warning can be ignored when running in bare mode.\n",
            "2025-02-21 22:02:12.696 Thread 'MainThread': missing ScriptRunContext! This warning can be ignored when running in bare mode.\n",
            "2025-02-21 22:02:12.699 Thread 'MainThread': missing ScriptRunContext! This warning can be ignored when running in bare mode.\n",
            "2025-02-21 22:02:12.700 Thread 'MainThread': missing ScriptRunContext! This warning can be ignored when running in bare mode.\n",
            "2025-02-21 22:02:12.700 Thread 'MainThread': missing ScriptRunContext! This warning can be ignored when running in bare mode.\n",
            "2025-02-21 22:02:12.704 Thread 'MainThread': missing ScriptRunContext! This warning can be ignored when running in bare mode.\n",
            "2025-02-21 22:02:12.705 Thread 'MainThread': missing ScriptRunContext! This warning can be ignored when running in bare mode.\n",
            "2025-02-21 22:02:12.705 Thread 'MainThread': missing ScriptRunContext! This warning can be ignored when running in bare mode.\n",
            "2025-02-21 22:02:12.706 Thread 'MainThread': missing ScriptRunContext! This warning can be ignored when running in bare mode.\n",
            "2025-02-21 22:02:12.709 Thread 'MainThread': missing ScriptRunContext! This warning can be ignored when running in bare mode.\n",
            "2025-02-21 22:02:12.709 Thread 'MainThread': missing ScriptRunContext! This warning can be ignored when running in bare mode.\n",
            "2025-02-21 22:02:12.710 Thread 'MainThread': missing ScriptRunContext! This warning can be ignored when running in bare mode.\n",
            "2025-02-21 22:02:12.722 Thread 'MainThread': missing ScriptRunContext! This warning can be ignored when running in bare mode.\n",
            "2025-02-21 22:02:12.727 Thread 'MainThread': missing ScriptRunContext! This warning can be ignored when running in bare mode.\n",
            "2025-02-21 22:02:12.728 Thread 'MainThread': missing ScriptRunContext! This warning can be ignored when running in bare mode.\n",
            "2025-02-21 22:02:12.729 Thread 'MainThread': missing ScriptRunContext! This warning can be ignored when running in bare mode.\n",
            "2025-02-21 22:02:12.729 Thread 'MainThread': missing ScriptRunContext! This warning can be ignored when running in bare mode.\n",
            "2025-02-21 22:02:12.732 Thread 'MainThread': missing ScriptRunContext! This warning can be ignored when running in bare mode.\n",
            "2025-02-21 22:02:12.733 Thread 'MainThread': missing ScriptRunContext! This warning can be ignored when running in bare mode.\n",
            "2025-02-21 22:02:12.734 Thread 'MainThread': missing ScriptRunContext! This warning can be ignored when running in bare mode.\n",
            "2025-02-21 22:02:12.734 Thread 'MainThread': missing ScriptRunContext! This warning can be ignored when running in bare mode.\n",
            "2025-02-21 22:02:12.735 Thread 'MainThread': missing ScriptRunContext! This warning can be ignored when running in bare mode.\n",
            "2025-02-21 22:02:12.738 Thread 'MainThread': missing ScriptRunContext! This warning can be ignored when running in bare mode.\n"
          ]
        }
      ],
      "source": [
        "import streamlit as st\n",
        "import pandas as pd\n",
        "import numpy as np\n",
        "import matplotlib.pyplot as plt\n",
        "import subprocess\n",
        "import urllib.request\n",
        "import requests\n",
        "from PIL import Image\n",
        "from io import BytesIO\n",
        "\n",
        "st.markdown(\"<h1 style='text-align: center; color: black;'>Variação do Preço por Barril do Petróleo Bruto Brent</h1>\", unsafe_allow_html=True)\n",
        "\n",
        "opcoes_abas = ['Introdução Tech Challenge 4', 'Analise Preço Petroleo']\n",
        "aba_selecionada = st.sidebar.selectbox('Escolha uma aba', opcoes_abas)\n",
        "\n",
        "image_url = 'https://github.com/TorNDark/TechChallenge_Fase4/blob/main/Imagem_Capa.jpeg?raw=true'\n",
        "\n",
        "response = requests.get(image_url)\n",
        "image = Image.open(BytesIO(response.content))\n",
        "\n",
        "st.image(image,\n",
        "         width=30,\n",
        "         output_format='PNG',\n",
        "         use_container_width=True,\n",
        ")\n",
        "\n",
        "if aba_selecionada == 'Introdução Tech Challenge 4':\n",
        "    st.markdown(\"<h1 style='text-align: center; color: black;'>Introdução Tech Challenge 4</h1>\", unsafe_allow_html=True)\n",
        "    paragraphs = [\n",
        "        \"Analisar os dados de preço do petróleo Brent, que pode ser encontrado no site do Ipea.\",\n",
        "        \"Essa base de dados histórica envolve duas colunas: data e preço (em dólares).\",\n",
        "        \"Um grande cliente do segmento pediu para que fosse desenvolvido dashboards interativo e que gere insights relevantes para tomada de decisão.\",\n",
        "        \"Além disso, desenvolver um modelo de Machine Learning para fazer o forecasting do preço do petróleo e um modelo de Deploy (nesse caso estamos usando o Streamlit).\",\n",
        "        \"\",\n",
        "        \"No Streamlit há duas abas: a primeira explicando o Tech Challenge e a segunda com os Dados do Projeto\",\n",
        "        \"\",\n",
        "    ]\n",
        "\n",
        "    for paragraph in paragraphs:\n",
        "        st.write(paragraph)\n",
        "    st.write('Clique [aqui](http://www.ipeadata.gov.br/ExibeSerie.aspx?module=m&serid=1650971490&oper=view) para acessar os dados do IPEA')\n",
        "    # st.write('Clique [aqui](https://www.youtube.com/watch?v=lsGS1SKqSrY) para acessar o link de como foi feito o projeto, no youtube')\n",
        "    st.write(\"Clique [aqui](https://github.com/TorNDark/TechChallenge_Fase4.git) e acesse todo o conteúdo do trabalho no GitHub\")\n",
        "\n",
        "\n",
        "\n",
        "elif aba_selecionada == 'Analise Preço Petroleo':\n",
        "    st.markdown(\"<h1 style='text-align: center; color: black;'>Analise Preço Petroleo</h1>\", unsafe_allow_html=True)\n",
        "\n",
        "    paragraphs = [\n",
        "        \"Análise da Flutuação do Preço do Petróleo ao Longo do Tempo.\",\n",
        "        \"O estudo examina o preço do petróleo em diferentes períodos. É possível ajustar as datas de referência e observar a tabela e o gráfico correspondentes à variação do preço conforme a data selecionada.\"\n",
        "    ]\n",
        "\n",
        "    for paragraph in paragraphs:\n",
        "        st.write(paragraph)\n",
        "\n",
        "    # Carregar o arquivo CSV usando pandas\n",
        "    df = pd.read_csv(\"https://raw.githubusercontent.com/TorNDark/TechChallenge_Fase4/refs/heads/main/preco_petroleo_ipea_base_2015_2025.csv\", sep=';', encoding='latin1')\n",
        "\n",
        "    # Exibir os dados no Streamlit\n",
        "\n",
        "    data_inicial_padrao = pd.to_datetime('2020-01-04').date()\n",
        "    data_final_padrao = pd.to_datetime('2025-02-10').date()\n",
        "\n",
        "    data_inicial = st.date_input(\"Data Inicial\", value=data_inicial_padrao, min_value=data_inicial_padrao)\n",
        "    data_final = st.date_input(\"Data Final\", value=data_final_padrao, max_value=pd.to_datetime('2025-02-10').date())\n",
        "\n",
        "\n",
        "    df.rename(columns={'Data': 'data', 'Preco': 'preco'}, inplace=True)\n",
        "    df['preco'] = df['preco'].astype(str).str.replace(',', '.')\n",
        "    df['preco'] = df['preco'].astype(float)\n",
        "    df['data'] = pd.to_datetime(df['data'], format='%d/%m/%Y').dt.date # Specifica o formato correto\n",
        "\n",
        "    df_filtrado = df[(df['data'] >= data_inicial) & (df['data'] <= data_final)]\n",
        "\n",
        "    x = df_filtrado['data']\n",
        "    y = df_filtrado['preco']\n",
        "\n",
        "    plt.plot(df_filtrado['data'], df_filtrado['preco'])\n",
        "    plt.xlabel('Data')\n",
        "    plt.ylabel('Preço')\n",
        "    plt.title('Preço ao longo dos anos')\n",
        "\n",
        "\n",
        "    st.pyplot(plt)\n",
        "\n",
        "    st.markdown(\"<hr>\", unsafe_allow_html=True)\n",
        "\n",
        "    st.write('## Prevendo o valor do barril de Petróleo')\n",
        "    paragraphs = [\n",
        "        \"Para prever os valores do barril do Petróleo estudamos alguns modelos tradicionais de Machine Learning, como Arvore de decisão (Decision Tree), Linear Regression e Arima.\",\n",
        "        \"A melhor previsão, entre eles, foi do Arima, com um MAPE de 5%.\",\n",
        "        \"As maiores variações de períodos curtos, interferem muito no modelo de previsão.\"\n",
        "    ]\n",
        "\n",
        "    for paragraph in paragraphs:\n",
        "        st.write(paragraph, format='markdown')\n",
        "\n",
        "    url_predicao = \"https://github.com/TorNDark/TechChallenge_Fase4/blob/main/Modelo_Arima.png?raw=true\"\n",
        "    st.image(url_predicao, use_container_width =True, caption=\"Gráfico de Predição Arima\")\n",
        "\n",
        "    st.markdown(\"<hr>\", unsafe_allow_html=True)\n",
        "\n",
        "    st.write('### Potenciais Causadores de Oscilações no Preço do Petróleo')\n",
        "    paragraphs = [\n",
        "        \"Alguns outros causadores de oscilações no preço do petróleo nos últimos anos, e como isso pode impactar diretamente e indiretamente o valor do petróleo mundial\",\n",
        "        \"   1 - Geopolítica: Conflitos e tensões internacionais, como as sanções ao Irã e à Rússia, têm um impacto direto nos preços do petróleo.\",\n",
        "        \"   2 - Oferta e Demanda: A produção da OPEP+ e a demanda global por energia influenciam significativamente os preços.\",\n",
        "        \"   3 - Eventos Econômicos Globais: Crises econômicas, como a pandemia de COVID-19, podem causar quedas abruptas na demanda e, consequentemente, nos preços.\",\n",
        "        \"   4 - Avanços Tecnológicos: A extração de óleo de xisto nos EUA, por exemplo, aumentou a oferta global e impactou os preços.\"\n",
        "\n",
        "    ]\n",
        "\n",
        "    for paragraph in paragraphs:\n",
        "        st.write(paragraph, format='markdown')\n",
        "\n",
        "\n",
        "    st.write('Fonte: Código Python disponível no Github')\n",
        "    st.write('Clique [aqui](https://github.com/TorNDark/TechChallenge_Fase4/blob/main/TechChallengerPetroleoFIAP_v3.ipynb)')\n",
        "\n",
        "    st.write('<hr>', unsafe_allow_html=True)\n",
        "    st.write('### Resultados Detalhados')\n",
        "    paragraphs = [\n",
        "        \"Os resultados detalhados de desempenho dos modelos mostram que o modelo ARIMA teve erros menores em comparação com os modelos de regressão linear e árvore de decisão.\",\n",
        "        \"Por exemplo, em 22 de novembro de 2024, o erro do modelo ARIMA foi de -4.883, enquanto o erro da regressão linear foi de -12.129204 e o da árvore de decisão foi de -6.10.\",\n",
        "        \"Em resumo, a combinação de diferentes técnicas de machine learning, com destaque para o modelo ARIMA, nos permitiu obter previsões robustas e precisas dos preços do petróleo.\",\n",
        "        \"Esses insights são essenciais para a tomada de decisões estratégicas no mercado de petróleo.\"\n",
        "\n",
        "    ]\n",
        "\n",
        "\n",
        "    for paragraph in paragraphs:\n",
        "        st.write(paragraph, format='markdown')\n",
        "\n",
        "    st.markdown(\"<hr>\", unsafe_allow_html=True)\n",
        "\n",
        "    st.write('## Dashboard Power Bi')\n",
        "    paragraphs = [\n",
        "        'O Dashboard abaixo mostra as variações do preço do petróleo ao longo dos anos e também explica as variações.',\n",
        "        'Para acessar todos os recursos, clique no link e baixar o arquivo do Power Bi.'\n",
        "    ]\n",
        "\n",
        "    for paragraph in paragraphs:\n",
        "        st.write(paragraph)\n",
        "\n",
        "    img_url = \"https://github.com/TorNDark/TechChallenge_Fase4/blob/main/dash_power_bi.png?raw=true\"\n",
        "\n",
        "    st.image(img_url, use_container_width=True, caption=\"Foto do Dashboard Power Bi\")\n",
        "\n",
        "    st.write('Clique [aqui](https://github.com/TorNDark/TechChallenge_Fase4/blob/main/An%C3%A1lise%20Pre%C3%A7o%20do%20Petr%C3%B3leo_01.pbix) para abrir o arquivo Power BI no Github')\n",
        "\n",
        "    st.markdown(\"<hr>\", unsafe_allow_html=True)\n",
        "\n",
        "\n",
        "\n",
        "\n"
      ]
    },
    {
      "cell_type": "code",
      "source": [
        "%%writefile app_stream.py"
      ],
      "metadata": {
        "colab": {
          "base_uri": "https://localhost:8080/"
        },
        "id": "h2GN-DgbiO2l",
        "outputId": "f5e9b602-d4d6-45ad-e287-109989d7efb5"
      },
      "execution_count": 4,
      "outputs": [
        {
          "output_type": "stream",
          "name": "stdout",
          "text": [
            "Writing app_stream.py\n"
          ]
        }
      ]
    },
    {
      "cell_type": "code",
      "source": [
        "! wget -q -O - ipv4.icanhazip.com"
      ],
      "metadata": {
        "colab": {
          "base_uri": "https://localhost:8080/"
        },
        "id": "l5Tbn7poiZmR",
        "outputId": "4f12a393-56c8-43f2-b200-6b8c7f464fd1"
      },
      "execution_count": 7,
      "outputs": [
        {
          "output_type": "stream",
          "name": "stdout",
          "text": [
            "35.188.240.82\n"
          ]
        }
      ]
    },
    {
      "cell_type": "code",
      "source": [
        "! streamlit run app_stream.py & npx localtunnel --port 8501"
      ],
      "metadata": {
        "colab": {
          "base_uri": "https://localhost:8080/"
        },
        "id": "zfkH04BNiprA",
        "outputId": "4b56f887-092a-484c-ff2d-fe9810944ccc"
      },
      "execution_count": null,
      "outputs": [
        {
          "output_type": "stream",
          "name": "stdout",
          "text": [
            "\n",
            "Collecting usage statistics. To deactivate, set browser.gatherUsageStats to false.\n",
            "\u001b[0m\n",
            "\u001b[0m\n",
            "\u001b[34m\u001b[1m  You can now view your Streamlit app in your browser.\u001b[0m\n",
            "\u001b[0m\n",
            "\u001b[34m  Local URL: \u001b[0m\u001b[1mhttp://localhost:8501\u001b[0m\n",
            "\u001b[34m  Network URL: \u001b[0m\u001b[1mhttp://172.28.0.12:8501\u001b[0m\n",
            "\u001b[34m  External URL: \u001b[0m\u001b[1mhttp://35.188.240.82:8501\u001b[0m\n",
            "\u001b[0m\n",
            "\u001b[1G\u001b[0K⠙\u001b[1G\u001b[0K⠹\u001b[1G\u001b[0K⠸\u001b[1G\u001b[0K⠼\u001b[1G\u001b[0K⠴\u001b[1G\u001b[0K\u001b[1G\u001b[0JNeed to install the following packages:\n",
            "localtunnel@2.0.2\n",
            "Ok to proceed? (y) \u001b[20Gy\n",
            "\n",
            "\u001b[1G\u001b[0K⠙\u001b[1G\u001b[0K⠹\u001b[1G\u001b[0K⠸\u001b[1G\u001b[0K⠼\u001b[1G\u001b[0K⠴\u001b[1G\u001b[0K⠦\u001b[1G\u001b[0K⠧\u001b[1G\u001b[0K⠇\u001b[1G\u001b[0K⠏\u001b[1G\u001b[0K⠋\u001b[1G\u001b[0K⠙\u001b[1G\u001b[0K⠹\u001b[1G\u001b[0K⠸\u001b[1G\u001b[0K⠼\u001b[1G\u001b[0K⠴\u001b[1G\u001b[0K⠦\u001b[1G\u001b[0K⠧\u001b[1G\u001b[0K⠇\u001b[1G\u001b[0K⠏\u001b[1G\u001b[0K⠋\u001b[1G\u001b[0K⠙\u001b[1G\u001b[0K⠹\u001b[1G\u001b[0K⠸\u001b[1G\u001b[0K⠼\u001b[1G\u001b[0K⠴\u001b[1G\u001b[0K⠦\u001b[1G\u001b[0K⠧\u001b[1G\u001b[0K⠇\u001b[1G\u001b[0K⠏\u001b[1G\u001b[0K⠋\u001b[1G\u001b[0Kyour url is: https://some-tables-bathe.loca.lt\n"
          ]
        }
      ]
    }
  ]
}